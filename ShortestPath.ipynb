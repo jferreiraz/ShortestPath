{
  "nbformat": 4,
  "nbformat_minor": 0,
  "metadata": {
    "colab": {
      "provenance": [],
      "authorship_tag": "ABX9TyNZXal0vwLJ5K0DjK2Pnjxm",
      "include_colab_link": true
    },
    "kernelspec": {
      "name": "python3",
      "display_name": "Python 3"
    },
    "language_info": {
      "name": "python"
    }
  },
  "cells": [
    {
      "cell_type": "markdown",
      "metadata": {
        "id": "view-in-github",
        "colab_type": "text"
      },
      "source": [
        "<a href=\"https://colab.research.google.com/github/jferreiraz/ShortestPath/blob/main/ShortestPath.ipynb\" target=\"_parent\"><img src=\"https://colab.research.google.com/assets/colab-badge.svg\" alt=\"Open In Colab\"/></a>"
      ]
    },
    {
      "cell_type": "code",
      "execution_count": 61,
      "metadata": {
        "colab": {
          "base_uri": "https://localhost:8080/",
          "height": 317
        },
        "id": "w8aTMKz3cJMw",
        "outputId": "935e9923-11f9-4c31-aefe-c6083a0b89d1"
      },
      "outputs": [
        {
          "output_type": "display_data",
          "data": {
            "text/plain": [
              "<Figure size 432x288 with 1 Axes>"
            ],
            "image/png": "[encoded data removed]"
          },
          "metadata": {}
        },
        {
          "output_type": "stream",
          "name": "stdout",
          "text": [
            "The shortest path: \n",
            "[7, 10]\n",
            "The cost of the travel: \n",
            "102\n"
          ]
        }
      ],
      "source": [
        "import networkx as nx\n",
        "import matplotlib.pyplot as plt\n",
        "g = nx.Graph()\n",
        "\n",
        "g.add_node(1,pos=(10,70))\n",
        "g.add_node(2,pos=(5,60))\n",
        "g.add_node(3,pos=(0,50))\n",
        "g.add_node(4,pos=(5,40))\n",
        "g.add_node(5,pos=(0,30))\n",
        "g.add_node(6,pos=(0,10))\n",
        "g.add_node(7,pos=(5,30))\n",
        "g.add_node(8,pos=(5,10))\n",
        "g.add_node(9,pos=(10,0))\n",
        "g.add_node(10,pos=(10,40))\n",
        "g.add_node(11,pos=(10,20))\n",
        "g.add_node(12,pos=(20,60))\n",
        "g.add_node(13,pos=(20,40))\n",
        "\n",
        "g.add_edge(1,2,weight=59)\n",
        "g.add_edge(1,10,weight=347)\n",
        "g.add_edge(1,12,weight=55)\n",
        "g.add_edge(2,3,weight=70)\n",
        "g.add_edge(3,4,weight=112)\n",
        "g.add_edge(4,5,weight=49)\n",
        "g.add_edge(5,6,weight=111)\n",
        "g.add_edge(6,7,weight=129)\n",
        "g.add_edge(6,8,weight=127)\n",
        "g.add_edge(8,9,weight=119)\n",
        "g.add_edge(10,7,weight=102)\n",
        "g.add_edge(10,11,weight=78)\n",
        "g.add_edge(11,9,weight=244)\n",
        "g.add_edge(12,13,weight=60)\n",
        "g.add_edge(13,10,weight=320)\n",
        "\n",
        "pos = nx.get_node_attributes(g,'pos')\n",
        "labels = nx.get_edge_attributes(g,'weight')\n",
        "\n",
        "nx.draw_networkx_edge_labels(g,pos,edge_labels=labels)\n",
        "nx.draw(g, pos, with_labels=True)\n",
        "\n",
        "start = 7\n",
        "destination = 10\n",
        "c1 = \"The shortest path: \"\n",
        "c2 = \"The cost of the travel: \"\n",
        "\n",
        "length = nx.shortest_path_length(g, source=start, target=destination, weight='weight')\n",
        "\n",
        "plt.show()\n",
        "\n",
        "print(\"The shortest path: \")\n",
        "print(nx.shortest_path(g,source=start,target=destination))\n",
        "\n",
        "print(\"The cost of the travel: \")\n",
        "print(length)\n"
      ]
    },
    {
      "cell_type": "code",
      "source": [
        "G = nx.path_graph(5)\n",
        "\n",
        "print(nx.shortest_path(G, source=0, target=4))\n",
        "[0, 1, 2, 3, 4]\n",
        "p = nx.shortest_path(G, source=0)  # target not specified\n",
        "p[3] # shortest path from source=0 to target=3\n",
        "[0, 1, 2, 3]\n",
        "p = nx.shortest_path(G, target=4)  # source not specified\n",
        "p[1] # shortest path from source=1 to target=4\n",
        "[1, 2, 3, 4]\n",
        "p = nx.shortest_path(G)  # source, target not specified\n",
        "p[2][4] # shortest path from source=2 to target=4\n",
        "[2, 3, 4]\n"
      ],
      "metadata": {
        "colab": {
          "base_uri": "https://localhost:8080/"
        },
        "id": "zS2hlhxfkfc9",
        "outputId": "90e35ad1-a0f3-4eec-909f-af309c95278f"
      },
      "execution_count": 33,
      "outputs": [
        {
          "output_type": "stream",
          "name": "stdout",
          "text": [
            "[0, 1, 2, 3, 4]\n"
          ]
        },
        {
          "output_type": "execute_result",
          "data": {
            "text/plain": [
              "[2, 3, 4]"
            ]
          },
          "metadata": {},
          "execution_count": 33
        }
      ]
    },
    {
      "cell_type": "code",
      "source": [
        "import networkx as nx\n",
        "\n",
        "edges = [(1,2, {'weight':4}),\n",
        "        (1,3,{'weight':2}),\n",
        "        (2,3,{'weight':1}),\n",
        "        (2,4, {'weight':5}),\n",
        "        (3,4, {'weight':8}),\n",
        "        (3,5, {'weight':10}),\n",
        "        (4,5,{'weight':2}),\n",
        "        (4,6,{'weight':8}),\n",
        "        (5,6,{'weight':5})]\n",
        "edge_labels = {(1,2):4, (1,3):2, (2,3):1, (2,4):5, (3,4):8, (3,5):10, (4,5):2, (4,6):8, (5,6):5}\n",
        "   \n",
        "        \n",
        "G = nx.Graph()\n",
        "for i in range(1,7):\n",
        "    G.add_node(i)\n",
        "G.add_edges_from(edges)\n",
        "\n",
        "pos = nx.planar_layout(G)\n",
        "\n",
        "# This will give us all the shortest paths from node 1 using the weights from the edges. \n",
        "p11 = nx.shortest_path(G, source=1, weight='weight')\n",
        "\n",
        "# This will give us the shortest path from node 1 to node 6.\n",
        "p1to6 = nx.shortest_path(G, source=1, target=6, weight='weight')\n",
        "\n",
        "# This will give us the length of the shortest path from node 1 to node 6.\n",
        "length = nx.shortest_path_length(G, source=1, target=6, weight='weight')\n",
        "\n",
        "print( p11)\n",
        "print( p1to6)\n",
        "print(length)"
      ],
      "metadata": {
        "colab": {
          "base_uri": "https://localhost:8080/"
        },
        "id": "OPc2mhePk7Zo",
        "outputId": "50621134-d3d6-411f-97fb-eb82892c7c01"
      },
      "execution_count": 43,
      "outputs": [
        {
          "output_type": "stream",
          "name": "stdout",
          "text": [
            "{1: [1], 2: [1, 3, 2], 3: [1, 3], 4: [1, 3, 2, 4], 5: [1, 3, 2, 4, 5], 6: [1, 3, 2, 4, 5, 6]}\n",
            "[1, 3, 2, 4, 5, 6]\n",
            "15\n"
          ]
        }
      ]
    }
  ]
}