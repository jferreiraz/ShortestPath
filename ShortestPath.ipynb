{
  "nbformat": 4,
  "nbformat_minor": 0,
  "metadata": {
    "colab": {
      "provenance": [],
      "authorship_tag": "ABX9TyN7p4G07u4qHHh+rNLIZAby",
      "include_colab_link": true
    },
    "kernelspec": {
      "name": "python3",
      "display_name": "Python 3"
    },
    "language_info": {
      "name": "python"
    }
  },
  "cells": [
    {
      "cell_type": "markdown",
      "metadata": {
        "id": "view-in-github",
        "colab_type": "text"
      },
      "source": [
        "<a href=\"https://colab.research.google.com/github/jferreiraz/ShortestPath/blob/master/ShortestPath.ipynb\" target=\"_parent\"><img src=\"https://colab.research.google.com/assets/colab-badge.svg\" alt=\"Open In Colab\"/></a>"
      ]
    },
    {
      "cell_type": "code",
      "execution_count": null,
      "metadata": {
        "id": "67Xo7k4KpXQU"
      },
      "outputs": [],
      "source": [
        "import networkx as nx\n",
        "import matplotlib.pyplot as plt\n",
        "g = nx.Graph()\n",
        "\n",
        "g.add_node(1,pos=(10,70))\n",
        "g.add_node(2,pos=(5,60))\n",
        "g.add_node(3,pos=(0,50))\n",
        "g.add_node(4,pos=(5,40))\n",
        "g.add_node(5,pos=(0,30))\n",
        "g.add_node(6,pos=(0,10))\n",
        "g.add_node(7,pos=(5,30))\n",
        "g.add_node(8,pos=(5,10))\n",
        "g.add_node(9,pos=(10,0))\n",
        "g.add_node(10,pos=(10,40))\n",
        "g.add_node(11,pos=(10,20))\n",
        "g.add_node(12,pos=(20,60))\n",
        "g.add_node(13,pos=(20,40))\n",
        "\n",
        "g.add_edge(1,2,weight=59)\n",
        "g.add_edge(1,10,weight=347)\n",
        "g.add_edge(1,12,weight=55)\n",
        "g.add_edge(2,3,weight=70)\n",
        "g.add_edge(3,4,weight=112)\n",
        "g.add_edge(4,5,weight=49)\n",
        "g.add_edge(5,6,weight=111)\n",
        "g.add_edge(6,7,weight=129)\n",
        "g.add_edge(6,8,weight=127)\n",
        "g.add_edge(8,9,weight=119)\n",
        "g.add_edge(10,7,weight=102)\n",
        "g.add_edge(10,11,weight=78)\n",
        "g.add_edge(11,9,weight=244)\n",
        "g.add_edge(12,13,weight=60)\n",
        "g.add_edge(13,10,weight=320)\n",
        "\n",
        "pos = nx.get_node_attributes(g,'pos')\n",
        "labels = nx.get_edge_attributes(g,'weight')\n",
        "\n",
        "nx.draw_networkx_edge_labels(g,pos,edge_labels=labels)\n",
        "nx.draw(g, pos, with_labels=True)\n",
        "\n",
        "start = 7\n",
        "destination = 10\n",
        "c1 = \"The shortest path: \"\n",
        "c2 = \"The cost of the travel: \"\n",
        "\n",
        "length = nx.shortest_path_length(g, source=start, target=destination, weight='weight')\n",
        "\n",
        "plt.show()\n",
        "\n",
        "print(\"The shortest path: \")\n",
        "print(nx.shortest_path(g,source=start,target=destination))\n",
        "\n",
        "print(\"The cost of the travel: \")\n",
        "print(length)\n"
      ]
    }
  ]
}