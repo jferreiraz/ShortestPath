{
  "nbformat": 4,
  "nbformat_minor": 0,
  "metadata": {
    "colab": {
      "provenance": [],
      "collapsed_sections": [],
      "authorship_tag": "ABX9TyNxzvXoRFBb8uF62SyPcLpX",
      "include_colab_link": true
    },
    "kernelspec": {
      "name": "python3",
      "display_name": "Python 3"
    },
    "language_info": {
      "name": "python"
    }
  },
  "cells": [
    {
      "cell_type": "markdown",
      "metadata": {
        "id": "view-in-github",
        "colab_type": "text"
      },
      "source": [
        "<a href=\"https://colab.research.google.com/github/jferreiraz/ShortestPath/blob/main/ShortestPath(W).ipynb\" target=\"_parent\"><img src=\"https://colab.research.google.com/assets/colab-badge.svg\" alt=\"Open In Colab\"/></a>"
      ]
    },
    {
      "cell_type": "markdown",
      "source": [
        "Importing libraries"
      ],
      "metadata": {
        "id": "jMLortmqv8wz"
      }
    },
    {
      "cell_type": "code",
      "source": [
        "import networkx as nx   #Libraries for the graph\n",
        "import matplotlib.pyplot as plt\n",
        "\n",
        "import pandas as pd     #Libraries for the list\n",
        "import numpy as np"
      ],
      "metadata": {
        "id": "Z4Bly-PcvgO7"
      },
      "execution_count": 17,
      "outputs": []
    },
    {
      "cell_type": "markdown",
      "source": [
        "Setting the position and edges on the chart"
      ],
      "metadata": {
        "id": "ZLIMoH3hvt_a"
      }
    },
    {
      "cell_type": "code",
      "execution_count": 20,
      "metadata": {
        "id": "67Xo7k4KpXQU"
      },
      "outputs": [],
      "source": [
        "g = nx.Graph()\n",
        "\n",
        "g.add_node(0,pos=(10,70))\n",
        "g.add_node(1,pos=(5,60))\n",
        "g.add_node(2,pos=(0,50))\n",
        "g.add_node(3,pos=(5,40))\n",
        "g.add_node(4,pos=(0,30))\n",
        "g.add_node(5,pos=(0,10))\n",
        "g.add_node(6,pos=(5,30))\n",
        "g.add_node(7,pos=(5,10))\n",
        "g.add_node(8,pos=(10,0))\n",
        "g.add_node(9,pos=(10,40))\n",
        "g.add_node(10,pos=(10,20))\n",
        "g.add_node(11,pos=(20,60))\n",
        "g.add_node(12,pos=(20,40))\n",
        "\n",
        "g.add_edge(0,1,weight=59)\n",
        "g.add_edge(0,9,weight=347)\n",
        "g.add_edge(0,11,weight=55)\n",
        "g.add_edge(1,2,weight=70)\n",
        "g.add_edge(2,3,weight=112)\n",
        "g.add_edge(3,4,weight=49)\n",
        "g.add_edge(4,5,weight=111)\n",
        "g.add_edge(5,6,weight=129)\n",
        "g.add_edge(5,7,weight=127)\n",
        "g.add_edge(6,7,weight=63)\n",
        "g.add_edge(7,8,weight=119)\n",
        "g.add_edge(9,6,weight=102)d \n",
        "g.add_edge(9,10,weight=78)\n",
        "g.add_edge(10,8,weight=244)\n",
        "g.add_edge(11,12,weight=60)\n",
        "g.add_edge(12,9,weight=320)"
      ]
    },
    {
      "cell_type": "markdown",
      "source": [
        "Functions, variables and results"
      ],
      "metadata": {
        "id": "P90-fi2OwFdV"
      }
    },
    {
      "cell_type": "code",
      "source": [
        "pos = nx.get_node_attributes(g,'pos')\n",
        "labels = nx.get_edge_attributes(g,'weight')\n",
        "\n",
        "nx.draw_networkx_edge_labels(g,pos,edge_labels=labels)\n",
        "nx.draw(g, pos, with_labels=True)\n",
        "\n",
        "start = 0            #Variable: start (change here)\n",
        "destination = 8      #Variable: destination (change here)\n",
        "\n",
        "route = nx.shortest_path(g,source=start,target=destination,weight='weight')\n",
        "distance = nx.shortest_path_length(g, source=start, target=destination, weight='weight')\n",
        "\n",
        "plt.show()\n",
        "\n",
        "print(\"The shortest path: \" + str(route))  #Information about the path\n",
        "print(\"The cost of the travel: \" + str(distance) + \" Kilometers\") #Information about the path cost"
      ],
      "metadata": {
        "id": "vdH7eIDLvdyh",
        "colab": {
          "base_uri": "https://localhost:8080/",
          "height": 283
        },
        "outputId": "5a676bd1-f574-4dda-ebc6-0bdeb5225495"
      },
      "execution_count": 53,
      "outputs": [
        {
          "output_type": "display_data",
          "data": {
            "text/plain": [
              "<Figure size 432x288 with 1 Axes>"
            ],
            "image/png": "[encoded data removed]"
          },
          "metadata": {}
        },
        {
          "output_type": "stream",
          "name": "stdout",
          "text": [
            "The shortest path: [0, 9, 6, 7, 8]\n",
            "The cost of the travel: 631 Kilometers\n"
          ]
        }
      ]
    },
    {
      "cell_type": "markdown",
      "source": [
        "City ID"
      ],
      "metadata": {
        "id": "kCygAI5MwSSm"
      }
    },
    {
      "cell_type": "code",
      "source": [
        "table = pd.DataFrame()\n",
        "\n",
        "lista= \"Arad Timisoara Lugoj Mehadia Drobeta Craiova Ramnicu_Valcea Pitesti Bucareste Sibiu Fagaras Zerind Oradea\".split()\n",
        "\n",
        "table[\"Cidades\"] = lista\n",
        "\n",
        "table"
      ],
      "metadata": {
        "id": "NrE0bYmcr-uW"
      },
      "execution_count": null,
      "outputs": []
    }
  ]
}